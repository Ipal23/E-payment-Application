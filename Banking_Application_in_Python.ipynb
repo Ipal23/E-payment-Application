{
  "nbformat": 4,
  "nbformat_minor": 0,
  "metadata": {
    "colab": {
      "name": "Banking Application in Python",
      "provenance": [],
      "collapsed_sections": [],
      "authorship_tag": "ABX9TyNXJKk9hMfTaW2hf+p9UG+E",
      "include_colab_link": true
    },
    "kernelspec": {
      "name": "python3",
      "display_name": "Python 3"
    }
  },
  "cells": [
    {
      "cell_type": "markdown",
      "metadata": {
        "id": "view-in-github",
        "colab_type": "text"
      },
      "source": [
        "<a href=\"https://colab.research.google.com/github/Ipal23/E-payment-Application/blob/main/Banking_Application_in_Python.ipynb\" target=\"_parent\"><img src=\"https://colab.research.google.com/assets/colab-badge.svg\" alt=\"Open In Colab\"/></a>"
      ]
    },
    {
      "cell_type": "markdown",
      "metadata": {
        "id": "PYK3on-3Gi2Z"
      },
      "source": [
        "Project 3. Proposal of simple ATM/Paypal screen.\r\n",
        "\r\n",
        "\r\n",
        "Within the era of technology Automation of e-payments is a crucial part.\r\n",
        "There is a lot of transactional data that is collected today. This data can be used to arrive at and to display personalised payment options to customers, based on their payment history and other demographic details. Some existing implementations in this space are:\r\n",
        "Most online retailers store the customers’ most selected payment method and the payment instrument details (e.g a credit card) where permissible. This enables quick and easy payments via mobile apps and ecommerce websites.\r\n",
        "Those processes are aided by various big data technologies and cloud solutions.\r\n",
        "\r\n",
        "\r\n"
      ]
    },
    {
      "cell_type": "code",
      "metadata": {
        "id": "071AVP4xGzxl"
      },
      "source": [
        "data = {10011 : {'name': 'Iliana', \r\n",
        "                      'address': 'Z78, CF Complex, Sector-14, Vashi', \r\n",
        "                      'phone num': '5469871230',\r\n",
        "                      'govt id': 'QK44758',\r\n",
        "                      'amount': 16400}}"
      ],
      "execution_count": 89,
      "outputs": []
    },
    {
      "cell_type": "code",
      "metadata": {
        "id": "cMs9nAMTG1H1"
      },
      "source": [
        "data = {10012 : {'name': 'Chris', \r\n",
        "                      'address': 'C42, MG Complex, Sector-14, Vashi', \r\n",
        "                      'phone num': '4545454545',\r\n",
        "                      'govt id': 'S54321Z',\r\n",
        "                      'amount': 16400}, \r\n",
        "            100013 : {'name' : 'Tom', \r\n",
        "                      'address': 'Z-280, Vakhou Modi, Lohagou', \r\n",
        "                      'phone num' : '5454545454',\r\n",
        "                      'govt id': 'XZ45666',\r\n",
        "                      'amount': 14999}}"
      ],
      "execution_count": 90,
      "outputs": []
    },
    {
      "cell_type": "code",
      "metadata": {
        "id": "6RL71w3ntzcH"
      },
      "source": [
        "# Create the 'data' dictionary and the 'new_user_attributes' list.\n",
        "data = {}\n",
        "new_user_attributes = ['name', 'address', 'phone num', 'govt id', 'amount']"
      ],
      "execution_count": 91,
      "outputs": []
    },
    {
      "cell_type": "code",
      "metadata": {
        "id": "k_r_1gDwMxrj"
      },
      "source": [
        "# Create the 'new_user()' function to add a new user to the 'cust_data' dictionary. \r\n",
        "from random import randint\r\n",
        "\r\n",
        "def new_user():\r\n",
        "  \"\"\"this function add a new user to the 'cust_data'\"\"\"\r\n",
        "\r\n",
        "  acc_no = str(randint(10000, 99999))\r\n",
        "  new_user_input = []\r\n",
        "  \r\n",
        "  for i in range(len(new_user_attributes)):\r\n",
        "    new_user_input.append(input(f\"enter your {new_user_attributes[i]} : \"))\r\n",
        "\r\n",
        "  new_user_details = {k : v for k,v in zip(new_user_attributes, new_user_input)}\r\n",
        "  data[acc_no] = new_user_details\r\n",
        "\r\n",
        "  print(f\"\\nYour details are added successfully.\\\r\n",
        "        \\nYour account number is {acc_no}\\\r\n",
        "        \\nPlease don't lose it.\")"
      ],
      "execution_count": 92,
      "outputs": []
    },
    {
      "cell_type": "code",
      "metadata": {
        "id": "OBC6sN--M0wI"
      },
      "source": [
        "# Create the 'existing_user()' function to get the account details of an existing user from the 'data' dictionary.\r\n",
        "def existing_user():\r\n",
        "  \"\"\"This function get the account details of an existing user from the 'data' dictionary\"\"\"\r\n",
        "\r\n",
        "  vaild_option = [\"1\", \"2\", \"3\"]\r\n",
        "\r\n",
        "  user_acc = input(\"Please enter your correct account number:\")\r\n",
        "\r\n",
        "  while user_acc not in data.keys():\r\n",
        "    print(f\"Not found.\\n{user_acc}\")\r\n",
        "  \r\n",
        "  details = data[user_acc]\r\n",
        "\r\n",
        "  available_amount = details['amount']\r\n",
        "  available_amount = int(available_amount)\r\n",
        "\r\n",
        "  user_input = input(f\"Welcome, {details['name']} !\\\r\n",
        "                          \\nPlease Enter 1 to check your balance.\\\r\n",
        "                          \\nPlease Enter 2 to withdraw an amount.\\\r\n",
        "                          \\nPlease Enter 3 to deposit an amount.\")\r\n",
        "\r\n",
        "  while user_input not in vaild_option:\r\n",
        "    print(f\"Invalid input!\\n{user_input}\")\r\n",
        "\r\n",
        "  if user_input == \"1\":\r\n",
        "    print(f\"\\nyour account balance is {available_amount}\")\r\n",
        "\r\n",
        "  elif user_input == \"2\":\r\n",
        "    w_amount = int(input(\"Enter the amount to be withdrawn:\"))\r\n",
        "\r\n",
        "    if w_amount > available_amount:\r\n",
        "      print(f\"Insufficient balance.\\nAvailable balance: {available_amount}\")\r\n",
        "\r\n",
        "    else:\r\n",
        "      available_amount -= w_amount\r\n",
        "      print(f\"Withdrawal successful.\\nAvailable Balance: {available_amount}\")\r\n",
        "\r\n",
        "  elif user_input == \"3\":\r\n",
        "    d_amount = int(input(\"Enter the to be deposite\"))\r\n",
        "    available_amount += d_amount\r\n",
        "    print(f\"Deposit successful.\\nAvailable Balance: {available_amount}\")"
      ],
      "execution_count": 93,
      "outputs": []
    },
    {
      "cell_type": "code",
      "metadata": {
        "id": "VTCcvpufM950"
      },
      "source": [
        "# Create an infinite while loop to run the application.\r\n",
        "def app():\r\n",
        "  \"\"\"This function run the application\"\"\"\r\n",
        "\r\n",
        "  last_lines = \"\\nThank you, for choosing our Bank!\"\r\n",
        "\r\n",
        "  while True:\r\n",
        "    valid_inputs = ['1', '2', '3']\r\n",
        "\r\n",
        "    print(\"Welcome to the ILI Bank!\")\r\n",
        "    print()\r\n",
        "\r\n",
        "    option = input(\"\\nEnter 1 if you are a new customer.\\\r\n",
        "                    \\nEnter 2 if you are an existing customer.\\\r\n",
        "                    \\nEnter 3 to terminate the application.\\n\")\r\n",
        "\r\n",
        "    while option not in valid_inputs:\r\n",
        "      print(\"\\nInvalid input!\")\r\n",
        "      print(option)\r\n",
        "\r\n",
        "    if option == \"1\":\r\n",
        "      new_user()\r\n",
        "      print(last_lines)\r\n",
        "      break\r\n",
        "\r\n",
        "    elif option == \"2\":\r\n",
        "      existing_user()\r\n",
        "      print(last_lines)\r\n",
        "      break\r\n",
        "\r\n",
        "    elif option == \"3\":\r\n",
        "      print(last_lines)\r\n",
        "      break\r\n"
      ],
      "execution_count": 94,
      "outputs": []
    },
    {
      "cell_type": "code",
      "metadata": {
        "colab": {
          "base_uri": "https://localhost:8080/"
        },
        "id": "C-Z6xoDYNI7J",
        "outputId": "16ac1ae5-d790-433a-b310-9b669ea5e72e"
      },
      "source": [
        "app()"
      ],
      "execution_count": 95,
      "outputs": [
        {
          "output_type": "stream",
          "text": [
            "Welcome to the ILI Bank!\n",
            "\n",
            "\n",
            "Enter 1 if you are a new customer.                    \n",
            "Enter 2 if you are an existing customer.                    \n",
            "Enter 3 to terminate the application.\n",
            "1\n",
            "enter your name : Test\n",
            "enter your address : Test\n",
            "enter your phone num : Test\n",
            "enter your govt id : Test\n",
            "enter your amount : Test\n",
            "\n",
            "Your details are added successfully.        \n",
            "Your account number is 21356        \n",
            "Please don't lose it.\n",
            "\n",
            "Thank you, for choosing our Bank!\n"
          ],
          "name": "stdout"
        }
      ]
    }
  ]
}